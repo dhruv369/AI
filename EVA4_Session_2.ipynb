{
  "nbformat": 4,
  "nbformat_minor": 0,
  "metadata": {
    "colab": {
      "name": "EVA4 - Session 2.ipynb",
      "provenance": [],
      "collapsed_sections": [],
      "include_colab_link": true
    },
    "kernelspec": {
      "name": "python3",
      "display_name": "Python 3"
    },
    "accelerator": "GPU"
  },
  "cells": [
    {
      "cell_type": "markdown",
      "metadata": {
        "id": "view-in-github",
        "colab_type": "text"
      },
      "source": [
        "<a href=\"https://colab.research.google.com/github/dhruv369/AI/blob/master/EVA4_Session_2.ipynb\" target=\"_parent\"><img src=\"https://colab.research.google.com/assets/colab-badge.svg\" alt=\"Open In Colab\"/></a>"
      ]
    },
    {
      "cell_type": "code",
      "metadata": {
        "id": "0m2JWFliFfKT"
      },
      "source": [
        "from __future__ import print_function\n",
        "import torch\n",
        "import torch.nn as nn\n",
        "import torch.nn.functional as F\n",
        "import torch.optim as optim\n",
        "from torchvision import datasets, transforms"
      ],
      "execution_count": null,
      "outputs": []
    },
    {
      "cell_type": "code",
      "metadata": {
        "id": "h_Cx9q2QFgM7"
      },
      "source": [
        "class Net(nn.Module):\n",
        "    def __init__(self):\n",
        "        super(Net, self).__init__()\n",
        "        self.conv1 = nn.Conv2d(1, 32, 3, padding=1) #1 x 28 x 28 -? 32 x 28 x28 ? 3\n",
        "        self.bnorm1 = nn.BatchNorm2d(32)\n",
        "        self.pool1 = nn.MaxPool2d(2, 2) # 32 x 14 x 14 ? 6\n",
        "\n",
        "        self.conv2 = nn.Conv2d(32, 32, 3, padding=1) #32 x 14 x 14 -? 32 x 14 x14 ? 8\n",
        "        self.bnorm2 = nn.BatchNorm2d(32)\n",
        "        self.pool2 = nn.MaxPool2d(2, 2) # 32 x 7 x 7\n",
        "\n",
        "        self.conv3 = nn.Conv2d(32, 32, 3) #32 x 7 x 7 -? 32 x 5 x 5 ? \n",
        "        self.bnorm3 = nn.BatchNorm2d(32)\n",
        "        # self.pool3 = nn.MaxPool2d(2, 2) #32 x 26 x 26 -? 32 x 24 x24 ? 14\n",
        "        self.drop1 = nn.Dropout(0.25)\n",
        "\n",
        "        # self.conv4 = nn.Conv2d(32, 32, 3) #32 x 12 x 12 ? 32 x 10 x 10 ? 16\n",
        "        # self.bnorm4 = nn.BatchNorm2d(32)\n",
        "        # self.pool2 = nn.MaxPool2d(2, 2) #32 x 10 x 10 ? 32 x 5 x 5 ? 18\n",
        "\n",
        "        # self.conv5 = nn.Conv2d(64, 64, 3,padding=1)\n",
        "        # self.bnorm5 = nn.BatchNorm2d(64)\n",
        "        # self.pool3 = nn.MaxPool2d(2, 2)\n",
        "        # self.drop2 = nn.Dropout(0.25)\n",
        "        \n",
        "        # self.conv6 = nn.Conv2d(64, 128, 3,padding=1)\n",
        "        # self.bnorm5 = nn.BatchNorm2d(128)\n",
        "        # self.pool4 = nn.MaxPool2d(2, 2)\n",
        "        # self.drop3 = nn.Dropout(0.25)\n",
        "\n",
        "        self.avgpl1 = nn.AvgPool2d(3) #32 x 5 x 5 ? 1 x 1 x 32\n",
        "\n",
        "        self.fc1   = nn.Linear(32, 16)\n",
        "        self.bnorm4 = nn.BatchNorm1d(16)\n",
        "        self.drop2 = nn.Dropout(0.25)\n",
        "        self.fc2   = nn.Linear(16, 10)\n",
        "\n",
        "\n",
        "    def forward(self, x):\n",
        "        x = self.pool1(self.bnorm1(F.relu(self.conv1(x))))\n",
        "        x = self.pool2(self.bnorm2(F.relu(self.conv2(x))))\n",
        "        x = self.bnorm3(F.relu(self.conv3(x)))\n",
        "        x = self.drop1(x)\n",
        "        # x = self.bnorm4(F.relu(self.conv4(x)))\n",
        "        # x = self.pool2(x)\n",
        "        # x = self.bnorm5(F.relu(self.conv5(x)))\n",
        "        # x = self.pool3(x)\n",
        "        # x = self.drop2(x)\n",
        "        # x = self.bnorm5(F.relu(self.conv6(x)))\n",
        "        # x = self.drop3(self.pool4(x))\n",
        "        x = self.avgpl1(x)\n",
        "        # x = F.relu(self.conv7(x))\n",
        "        # x = x.view(-1, 10)\n",
        "        x = x.view(x.size(0), -1)\n",
        "        x = self.fc1(x)\n",
        "        x = self.drop2(self.bnorm4(x))\n",
        "        x = self.fc2(x)\n",
        "        return F.log_softmax(x)"
      ],
      "execution_count": null,
      "outputs": []
    },
    {
      "cell_type": "code",
      "metadata": {
        "id": "xdydjYTZFyi3",
        "colab": {
          "base_uri": "https://localhost:8080/"
        },
        "outputId": "fdd8d42d-55f0-46eb-99ef-e3c40df9b992"
      },
      "source": [
        "!pip install torchsummary\n",
        "from torchsummary import summary\n",
        "use_cuda = torch.cuda.is_available()\n",
        "device = torch.device(\"cuda\" if use_cuda else \"cpu\")\n",
        "model = Net().to(device)\n",
        "summary(model, input_size=(1, 28, 28))"
      ],
      "execution_count": null,
      "outputs": [
        {
          "output_type": "stream",
          "name": "stdout",
          "text": [
            "Requirement already satisfied: torchsummary in /usr/local/lib/python3.7/dist-packages (1.5.1)\n",
            "----------------------------------------------------------------\n",
            "        Layer (type)               Output Shape         Param #\n",
            "================================================================\n",
            "            Conv2d-1           [-1, 32, 28, 28]             320\n",
            "       BatchNorm2d-2           [-1, 32, 28, 28]              64\n",
            "         MaxPool2d-3           [-1, 32, 14, 14]               0\n",
            "            Conv2d-4           [-1, 32, 14, 14]           9,248\n",
            "       BatchNorm2d-5           [-1, 32, 14, 14]              64\n",
            "         MaxPool2d-6             [-1, 32, 7, 7]               0\n",
            "            Conv2d-7             [-1, 32, 5, 5]           9,248\n",
            "       BatchNorm2d-8             [-1, 32, 5, 5]              64\n",
            "           Dropout-9             [-1, 32, 5, 5]               0\n",
            "        AvgPool2d-10             [-1, 32, 1, 1]               0\n",
            "           Linear-11                   [-1, 16]             528\n",
            "      BatchNorm1d-12                   [-1, 16]              32\n",
            "          Dropout-13                   [-1, 16]               0\n",
            "           Linear-14                   [-1, 10]             170\n",
            "================================================================\n",
            "Total params: 19,738\n",
            "Trainable params: 19,738\n",
            "Non-trainable params: 0\n",
            "----------------------------------------------------------------\n",
            "Input size (MB): 0.00\n",
            "Forward/backward pass size (MB): 0.56\n",
            "Params size (MB): 0.08\n",
            "Estimated Total Size (MB): 0.64\n",
            "----------------------------------------------------------------\n"
          ]
        },
        {
          "output_type": "stream",
          "name": "stderr",
          "text": [
            "/usr/local/lib/python3.7/dist-packages/ipykernel_launcher.py:58: UserWarning: Implicit dimension choice for log_softmax has been deprecated. Change the call to include dim=X as an argument.\n"
          ]
        }
      ]
    },
    {
      "cell_type": "code",
      "metadata": {
        "id": "DqTWLaM5GHgH"
      },
      "source": [
        "\n",
        "\n",
        "torch.manual_seed(1)\n",
        "batch_size = 128\n",
        "\n",
        "kwargs = {'num_workers': 1, 'pin_memory': True} if use_cuda else {}\n",
        "train_loader = torch.utils.data.DataLoader(\n",
        "    datasets.MNIST('../data', train=True, download=True,\n",
        "                    transform=transforms.Compose([\n",
        "                        transforms.ToTensor(),\n",
        "                        transforms.Normalize((0.1307,), (0.3081,))\n",
        "                    ])),\n",
        "    batch_size=batch_size, shuffle=True, **kwargs)\n",
        "test_loader = torch.utils.data.DataLoader(\n",
        "    datasets.MNIST('../data', train=False, transform=transforms.Compose([\n",
        "                        transforms.ToTensor(),\n",
        "                        transforms.Normalize((0.1307,), (0.3081,))\n",
        "                    ])),\n",
        "    batch_size=batch_size, shuffle=True, **kwargs)\n"
      ],
      "execution_count": null,
      "outputs": []
    },
    {
      "cell_type": "code",
      "metadata": {
        "id": "8fDefDhaFlwH"
      },
      "source": [
        "from tqdm import tqdm\n",
        "def train(model, device, train_loader, optimizer, epoch):\n",
        "    model.train()\n",
        "    pbar = tqdm(train_loader)\n",
        "    for batch_idx, (data, target) in enumerate(pbar):\n",
        "        data, target = data.to(device), target.to(device)\n",
        "        optimizer.zero_grad()\n",
        "        output = model(data)\n",
        "        loss = F.nll_loss(output, target)\n",
        "        loss.backward()\n",
        "        optimizer.step()\n",
        "        pbar.set_description(desc= f'loss={loss.item()} batch_id={batch_idx}')\n",
        "\n",
        "\n",
        "def test(model, device, test_loader):\n",
        "    model.eval()\n",
        "    test_loss = 0\n",
        "    correct = 0\n",
        "    with torch.no_grad():\n",
        "        for data, target in test_loader:\n",
        "            data, target = data.to(device), target.to(device)\n",
        "            output = model(data)\n",
        "            test_loss += F.nll_loss(output, target, reduction='sum').item()  # sum up batch loss\n",
        "            pred = output.argmax(dim=1, keepdim=True)  # get the index of the max log-probability\n",
        "            correct += pred.eq(target.view_as(pred)).sum().item()\n",
        "\n",
        "    test_loss /= len(test_loader.dataset)\n",
        "\n",
        "    print('\\nTest set: Average loss: {:.4f}, Accuracy: {}/{} ({:.5f}%)\\n'.format(\n",
        "        test_loss, correct, len(test_loader.dataset),\n",
        "        100. * correct / len(test_loader.dataset)))"
      ],
      "execution_count": null,
      "outputs": []
    },
    {
      "cell_type": "code",
      "metadata": {
        "id": "MMWbLWO6FuHb",
        "colab": {
          "base_uri": "https://localhost:8080/"
        },
        "outputId": "352d30f2-792f-4f02-f934-28d02aee31a0"
      },
      "source": [
        "\n",
        "model = Net().to(device)\n",
        "optimizer = optim.SGD(model.parameters(), lr=0.01, momentum=0.9)\n",
        "\n",
        "for epoch in range(1, 20):\n",
        "    train(model, device, train_loader, optimizer, epoch)\n",
        "    test(model, device, test_loader)"
      ],
      "execution_count": null,
      "outputs": [
        {
          "output_type": "stream",
          "name": "stderr",
          "text": [
            "  0%|          | 0/469 [00:00<?, ?it/s]/usr/local/lib/python3.7/dist-packages/ipykernel_launcher.py:58: UserWarning: Implicit dimension choice for log_softmax has been deprecated. Change the call to include dim=X as an argument.\n",
            "loss=0.09482090920209885 batch_id=468: 100%|██████████| 469/469 [00:21<00:00, 22.16it/s]\n"
          ]
        },
        {
          "output_type": "stream",
          "name": "stdout",
          "text": [
            "\n",
            "Test set: Average loss: 0.0820, Accuracy: 9791/10000 (97.91000%)\n",
            "\n"
          ]
        },
        {
          "output_type": "stream",
          "name": "stderr",
          "text": [
            "loss=0.15358248353004456 batch_id=468: 100%|██████████| 469/469 [00:21<00:00, 22.05it/s]\n"
          ]
        },
        {
          "output_type": "stream",
          "name": "stdout",
          "text": [
            "\n",
            "Test set: Average loss: 0.0536, Accuracy: 9838/10000 (98.38000%)\n",
            "\n"
          ]
        },
        {
          "output_type": "stream",
          "name": "stderr",
          "text": [
            "loss=0.14496706426143646 batch_id=468: 100%|██████████| 469/469 [00:21<00:00, 22.14it/s]\n"
          ]
        },
        {
          "output_type": "stream",
          "name": "stdout",
          "text": [
            "\n",
            "Test set: Average loss: 0.0563, Accuracy: 9835/10000 (98.35000%)\n",
            "\n"
          ]
        },
        {
          "output_type": "stream",
          "name": "stderr",
          "text": [
            "loss=0.062361400574445724 batch_id=468: 100%|██████████| 469/469 [00:21<00:00, 22.05it/s]\n"
          ]
        },
        {
          "output_type": "stream",
          "name": "stdout",
          "text": [
            "\n",
            "Test set: Average loss: 0.0429, Accuracy: 9870/10000 (98.70000%)\n",
            "\n"
          ]
        },
        {
          "output_type": "stream",
          "name": "stderr",
          "text": [
            "loss=0.04017559438943863 batch_id=468: 100%|██████████| 469/469 [00:21<00:00, 22.21it/s]\n"
          ]
        },
        {
          "output_type": "stream",
          "name": "stdout",
          "text": [
            "\n",
            "Test set: Average loss: 0.0466, Accuracy: 9854/10000 (98.54000%)\n",
            "\n"
          ]
        },
        {
          "output_type": "stream",
          "name": "stderr",
          "text": [
            "loss=0.12897361814975739 batch_id=468: 100%|██████████| 469/469 [00:21<00:00, 22.15it/s]\n"
          ]
        },
        {
          "output_type": "stream",
          "name": "stdout",
          "text": [
            "\n",
            "Test set: Average loss: 0.0387, Accuracy: 9882/10000 (98.82000%)\n",
            "\n"
          ]
        },
        {
          "output_type": "stream",
          "name": "stderr",
          "text": [
            "loss=0.04227238520979881 batch_id=468: 100%|██████████| 469/469 [00:21<00:00, 22.20it/s]\n"
          ]
        },
        {
          "output_type": "stream",
          "name": "stdout",
          "text": [
            "\n",
            "Test set: Average loss: 0.0363, Accuracy: 9890/10000 (98.90000%)\n",
            "\n"
          ]
        },
        {
          "output_type": "stream",
          "name": "stderr",
          "text": [
            "loss=0.04999147355556488 batch_id=468: 100%|██████████| 469/469 [00:21<00:00, 22.19it/s]\n"
          ]
        },
        {
          "output_type": "stream",
          "name": "stdout",
          "text": [
            "\n",
            "Test set: Average loss: 0.0419, Accuracy: 9874/10000 (98.74000%)\n",
            "\n"
          ]
        },
        {
          "output_type": "stream",
          "name": "stderr",
          "text": [
            "loss=0.0739019513130188 batch_id=468: 100%|██████████| 469/469 [00:21<00:00, 22.21it/s]\n"
          ]
        },
        {
          "output_type": "stream",
          "name": "stdout",
          "text": [
            "\n",
            "Test set: Average loss: 0.0349, Accuracy: 9887/10000 (98.87000%)\n",
            "\n"
          ]
        },
        {
          "output_type": "stream",
          "name": "stderr",
          "text": [
            "loss=0.02243974804878235 batch_id=468: 100%|██████████| 469/469 [00:21<00:00, 22.26it/s]\n"
          ]
        },
        {
          "output_type": "stream",
          "name": "stdout",
          "text": [
            "\n",
            "Test set: Average loss: 0.0339, Accuracy: 9897/10000 (98.97000%)\n",
            "\n"
          ]
        },
        {
          "output_type": "stream",
          "name": "stderr",
          "text": [
            "loss=0.03385038673877716 batch_id=468: 100%|██████████| 469/469 [00:21<00:00, 22.31it/s]\n"
          ]
        },
        {
          "output_type": "stream",
          "name": "stdout",
          "text": [
            "\n",
            "Test set: Average loss: 0.0376, Accuracy: 9890/10000 (98.90000%)\n",
            "\n"
          ]
        },
        {
          "output_type": "stream",
          "name": "stderr",
          "text": [
            "loss=0.02229311503469944 batch_id=468: 100%|██████████| 469/469 [00:21<00:00, 22.10it/s]\n"
          ]
        },
        {
          "output_type": "stream",
          "name": "stdout",
          "text": [
            "\n",
            "Test set: Average loss: 0.0341, Accuracy: 9900/10000 (99.00000%)\n",
            "\n"
          ]
        },
        {
          "output_type": "stream",
          "name": "stderr",
          "text": [
            "loss=0.019933056086301804 batch_id=468: 100%|██████████| 469/469 [00:21<00:00, 22.16it/s]\n"
          ]
        },
        {
          "output_type": "stream",
          "name": "stdout",
          "text": [
            "\n",
            "Test set: Average loss: 0.0334, Accuracy: 9907/10000 (99.07000%)\n",
            "\n"
          ]
        },
        {
          "output_type": "stream",
          "name": "stderr",
          "text": [
            "loss=0.2199711799621582 batch_id=468: 100%|██████████| 469/469 [00:21<00:00, 21.92it/s]\n"
          ]
        },
        {
          "output_type": "stream",
          "name": "stdout",
          "text": [
            "\n",
            "Test set: Average loss: 0.0330, Accuracy: 9911/10000 (99.11000%)\n",
            "\n"
          ]
        },
        {
          "output_type": "stream",
          "name": "stderr",
          "text": [
            "loss=0.07471314817667007 batch_id=468: 100%|██████████| 469/469 [00:21<00:00, 22.21it/s]\n"
          ]
        },
        {
          "output_type": "stream",
          "name": "stdout",
          "text": [
            "\n",
            "Test set: Average loss: 0.0337, Accuracy: 9905/10000 (99.05000%)\n",
            "\n"
          ]
        },
        {
          "output_type": "stream",
          "name": "stderr",
          "text": [
            "loss=0.011668798513710499 batch_id=468: 100%|██████████| 469/469 [00:21<00:00, 21.96it/s]\n"
          ]
        },
        {
          "output_type": "stream",
          "name": "stdout",
          "text": [
            "\n",
            "Test set: Average loss: 0.0358, Accuracy: 9906/10000 (99.06000%)\n",
            "\n"
          ]
        },
        {
          "output_type": "stream",
          "name": "stderr",
          "text": [
            "loss=0.026666885241866112 batch_id=468: 100%|██████████| 469/469 [00:21<00:00, 21.88it/s]\n"
          ]
        },
        {
          "output_type": "stream",
          "name": "stdout",
          "text": [
            "\n",
            "Test set: Average loss: 0.0367, Accuracy: 9901/10000 (99.01000%)\n",
            "\n"
          ]
        },
        {
          "output_type": "stream",
          "name": "stderr",
          "text": [
            "loss=0.012963290326297283 batch_id=468: 100%|██████████| 469/469 [00:21<00:00, 21.92it/s]\n"
          ]
        },
        {
          "output_type": "stream",
          "name": "stdout",
          "text": [
            "\n",
            "Test set: Average loss: 0.0351, Accuracy: 9909/10000 (99.09000%)\n",
            "\n"
          ]
        },
        {
          "output_type": "stream",
          "name": "stderr",
          "text": [
            "loss=0.011820237152278423 batch_id=468: 100%|██████████| 469/469 [00:21<00:00, 21.80it/s]\n"
          ]
        },
        {
          "output_type": "stream",
          "name": "stdout",
          "text": [
            "\n",
            "Test set: Average loss: 0.0353, Accuracy: 9909/10000 (99.09000%)\n",
            "\n"
          ]
        }
      ]
    },
    {
      "cell_type": "code",
      "metadata": {
        "id": "So5uk4EkHW6R"
      },
      "source": [
        ""
      ],
      "execution_count": null,
      "outputs": []
    }
  ]
}